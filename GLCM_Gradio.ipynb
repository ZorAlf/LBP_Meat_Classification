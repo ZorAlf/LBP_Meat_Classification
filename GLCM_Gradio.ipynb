{
  "nbformat": 4,
  "nbformat_minor": 0,
  "metadata": {
    "colab": {
      "provenance": []
    },
    "kernelspec": {
      "name": "python3",
      "display_name": "Python 3"
    },
    "language_info": {
      "name": "python"
    }
  },
  "cells": [
    {
      "cell_type": "markdown",
      "source": [
        "# Pengolahan Citra GLCM"
      ],
      "metadata": {
        "id": "GPg3ZHJkK9EQ"
      }
    },
    {
      "cell_type": "markdown",
      "source": [
        "## Depedensi"
      ],
      "metadata": {
        "id": "WmfIWilZKweo"
      }
    },
    {
      "cell_type": "code",
      "source": [
        "# Cell 1: Mount Google Drive\n",
        "from google.colab import drive\n",
        "drive.mount('/content/drive')"
      ],
      "metadata": {
        "id": "VnqSpcDaKyCZ"
      },
      "execution_count": null,
      "outputs": []
    },
    {
      "cell_type": "code",
      "source": [
        "!pip install scikit-image gradio\n",
        "\n",
        "import os\n",
        "import cv2\n",
        "import numpy as np\n",
        "import pandas as pd\n",
        "import gradio as gr\n",
        "from sklearn.ensemble import RandomForestClassifier\n",
        "from sklearn.svm import SVC\n",
        "from sklearn.model_selection import train_test_split\n",
        "from sklearn.metrics import classification_report, accuracy_score\n",
        "from skimage.feature import graycomatrix, graycoprops, local_binary_pattern\n",
        "from skimage.color import rgb2gray"
      ],
      "metadata": {
        "colab": {
          "base_uri": "https://localhost:8080/"
        },
        "id": "87TJsjj_K0JO",
        "outputId": "59b0f6fe-6a70-44d6-c77f-f240427ff1d3"
      },
      "execution_count": 34,
      "outputs": [
        {
          "output_type": "stream",
          "name": "stdout",
          "text": [
            "Requirement already satisfied: scikit-image in /usr/local/lib/python3.11/dist-packages (0.25.2)\n",
            "Requirement already satisfied: gradio in /usr/local/lib/python3.11/dist-packages (5.31.0)\n",
            "Requirement already satisfied: numpy>=1.24 in /usr/local/lib/python3.11/dist-packages (from scikit-image) (2.0.2)\n",
            "Requirement already satisfied: scipy>=1.11.4 in /usr/local/lib/python3.11/dist-packages (from scikit-image) (1.15.3)\n",
            "Requirement already satisfied: networkx>=3.0 in /usr/local/lib/python3.11/dist-packages (from scikit-image) (3.5)\n",
            "Requirement already satisfied: pillow>=10.1 in /usr/local/lib/python3.11/dist-packages (from scikit-image) (11.2.1)\n",
            "Requirement already satisfied: imageio!=2.35.0,>=2.33 in /usr/local/lib/python3.11/dist-packages (from scikit-image) (2.37.0)\n",
            "Requirement already satisfied: tifffile>=2022.8.12 in /usr/local/lib/python3.11/dist-packages (from scikit-image) (2025.6.1)\n",
            "Requirement already satisfied: packaging>=21 in /usr/local/lib/python3.11/dist-packages (from scikit-image) (24.2)\n",
            "Requirement already satisfied: lazy-loader>=0.4 in /usr/local/lib/python3.11/dist-packages (from scikit-image) (0.4)\n",
            "Requirement already satisfied: aiofiles<25.0,>=22.0 in /usr/local/lib/python3.11/dist-packages (from gradio) (24.1.0)\n",
            "Requirement already satisfied: anyio<5.0,>=3.0 in /usr/local/lib/python3.11/dist-packages (from gradio) (4.9.0)\n",
            "Requirement already satisfied: fastapi<1.0,>=0.115.2 in /usr/local/lib/python3.11/dist-packages (from gradio) (0.115.12)\n",
            "Requirement already satisfied: ffmpy in /usr/local/lib/python3.11/dist-packages (from gradio) (0.6.0)\n",
            "Requirement already satisfied: gradio-client==1.10.1 in /usr/local/lib/python3.11/dist-packages (from gradio) (1.10.1)\n",
            "Requirement already satisfied: groovy~=0.1 in /usr/local/lib/python3.11/dist-packages (from gradio) (0.1.2)\n",
            "Requirement already satisfied: httpx>=0.24.1 in /usr/local/lib/python3.11/dist-packages (from gradio) (0.28.1)\n",
            "Requirement already satisfied: huggingface-hub>=0.28.1 in /usr/local/lib/python3.11/dist-packages (from gradio) (0.32.4)\n",
            "Requirement already satisfied: jinja2<4.0 in /usr/local/lib/python3.11/dist-packages (from gradio) (3.1.6)\n",
            "Requirement already satisfied: markupsafe<4.0,>=2.0 in /usr/local/lib/python3.11/dist-packages (from gradio) (3.0.2)\n",
            "Requirement already satisfied: orjson~=3.0 in /usr/local/lib/python3.11/dist-packages (from gradio) (3.10.18)\n",
            "Requirement already satisfied: pandas<3.0,>=1.0 in /usr/local/lib/python3.11/dist-packages (from gradio) (2.2.2)\n",
            "Requirement already satisfied: pydantic<2.12,>=2.0 in /usr/local/lib/python3.11/dist-packages (from gradio) (2.11.5)\n",
            "Requirement already satisfied: pydub in /usr/local/lib/python3.11/dist-packages (from gradio) (0.25.1)\n",
            "Requirement already satisfied: python-multipart>=0.0.18 in /usr/local/lib/python3.11/dist-packages (from gradio) (0.0.20)\n",
            "Requirement already satisfied: pyyaml<7.0,>=5.0 in /usr/local/lib/python3.11/dist-packages (from gradio) (6.0.2)\n",
            "Requirement already satisfied: ruff>=0.9.3 in /usr/local/lib/python3.11/dist-packages (from gradio) (0.11.12)\n",
            "Requirement already satisfied: safehttpx<0.2.0,>=0.1.6 in /usr/local/lib/python3.11/dist-packages (from gradio) (0.1.6)\n",
            "Requirement already satisfied: semantic-version~=2.0 in /usr/local/lib/python3.11/dist-packages (from gradio) (2.10.0)\n",
            "Requirement already satisfied: starlette<1.0,>=0.40.0 in /usr/local/lib/python3.11/dist-packages (from gradio) (0.46.2)\n",
            "Requirement already satisfied: tomlkit<0.14.0,>=0.12.0 in /usr/local/lib/python3.11/dist-packages (from gradio) (0.13.2)\n",
            "Requirement already satisfied: typer<1.0,>=0.12 in /usr/local/lib/python3.11/dist-packages (from gradio) (0.16.0)\n",
            "Requirement already satisfied: typing-extensions~=4.0 in /usr/local/lib/python3.11/dist-packages (from gradio) (4.14.0)\n",
            "Requirement already satisfied: uvicorn>=0.14.0 in /usr/local/lib/python3.11/dist-packages (from gradio) (0.34.3)\n",
            "Requirement already satisfied: fsspec in /usr/local/lib/python3.11/dist-packages (from gradio-client==1.10.1->gradio) (2025.3.2)\n",
            "Requirement already satisfied: websockets<16.0,>=10.0 in /usr/local/lib/python3.11/dist-packages (from gradio-client==1.10.1->gradio) (15.0.1)\n",
            "Requirement already satisfied: idna>=2.8 in /usr/local/lib/python3.11/dist-packages (from anyio<5.0,>=3.0->gradio) (3.10)\n",
            "Requirement already satisfied: sniffio>=1.1 in /usr/local/lib/python3.11/dist-packages (from anyio<5.0,>=3.0->gradio) (1.3.1)\n",
            "Requirement already satisfied: certifi in /usr/local/lib/python3.11/dist-packages (from httpx>=0.24.1->gradio) (2025.4.26)\n",
            "Requirement already satisfied: httpcore==1.* in /usr/local/lib/python3.11/dist-packages (from httpx>=0.24.1->gradio) (1.0.9)\n",
            "Requirement already satisfied: h11>=0.16 in /usr/local/lib/python3.11/dist-packages (from httpcore==1.*->httpx>=0.24.1->gradio) (0.16.0)\n",
            "Requirement already satisfied: filelock in /usr/local/lib/python3.11/dist-packages (from huggingface-hub>=0.28.1->gradio) (3.18.0)\n",
            "Requirement already satisfied: requests in /usr/local/lib/python3.11/dist-packages (from huggingface-hub>=0.28.1->gradio) (2.32.3)\n",
            "Requirement already satisfied: tqdm>=4.42.1 in /usr/local/lib/python3.11/dist-packages (from huggingface-hub>=0.28.1->gradio) (4.67.1)\n",
            "Requirement already satisfied: hf-xet<2.0.0,>=1.1.2 in /usr/local/lib/python3.11/dist-packages (from huggingface-hub>=0.28.1->gradio) (1.1.2)\n",
            "Requirement already satisfied: python-dateutil>=2.8.2 in /usr/local/lib/python3.11/dist-packages (from pandas<3.0,>=1.0->gradio) (2.9.0.post0)\n",
            "Requirement already satisfied: pytz>=2020.1 in /usr/local/lib/python3.11/dist-packages (from pandas<3.0,>=1.0->gradio) (2025.2)\n",
            "Requirement already satisfied: tzdata>=2022.7 in /usr/local/lib/python3.11/dist-packages (from pandas<3.0,>=1.0->gradio) (2025.2)\n",
            "Requirement already satisfied: annotated-types>=0.6.0 in /usr/local/lib/python3.11/dist-packages (from pydantic<2.12,>=2.0->gradio) (0.7.0)\n",
            "Requirement already satisfied: pydantic-core==2.33.2 in /usr/local/lib/python3.11/dist-packages (from pydantic<2.12,>=2.0->gradio) (2.33.2)\n",
            "Requirement already satisfied: typing-inspection>=0.4.0 in /usr/local/lib/python3.11/dist-packages (from pydantic<2.12,>=2.0->gradio) (0.4.1)\n",
            "Requirement already satisfied: click>=8.0.0 in /usr/local/lib/python3.11/dist-packages (from typer<1.0,>=0.12->gradio) (8.2.1)\n",
            "Requirement already satisfied: shellingham>=1.3.0 in /usr/local/lib/python3.11/dist-packages (from typer<1.0,>=0.12->gradio) (1.5.4)\n",
            "Requirement already satisfied: rich>=10.11.0 in /usr/local/lib/python3.11/dist-packages (from typer<1.0,>=0.12->gradio) (13.9.4)\n",
            "Requirement already satisfied: six>=1.5 in /usr/local/lib/python3.11/dist-packages (from python-dateutil>=2.8.2->pandas<3.0,>=1.0->gradio) (1.17.0)\n",
            "Requirement already satisfied: markdown-it-py>=2.2.0 in /usr/local/lib/python3.11/dist-packages (from rich>=10.11.0->typer<1.0,>=0.12->gradio) (3.0.0)\n",
            "Requirement already satisfied: pygments<3.0.0,>=2.13.0 in /usr/local/lib/python3.11/dist-packages (from rich>=10.11.0->typer<1.0,>=0.12->gradio) (2.19.1)\n",
            "Requirement already satisfied: charset-normalizer<4,>=2 in /usr/local/lib/python3.11/dist-packages (from requests->huggingface-hub>=0.28.1->gradio) (3.4.2)\n",
            "Requirement already satisfied: urllib3<3,>=1.21.1 in /usr/local/lib/python3.11/dist-packages (from requests->huggingface-hub>=0.28.1->gradio) (2.4.0)\n",
            "Requirement already satisfied: mdurl~=0.1 in /usr/local/lib/python3.11/dist-packages (from markdown-it-py>=2.2.0->rich>=10.11.0->typer<1.0,>=0.12->gradio) (0.1.2)\n"
          ]
        }
      ]
    },
    {
      "cell_type": "markdown",
      "source": [
        "## Load Dataset"
      ],
      "metadata": {
        "id": "MC-VYaC6LD1r"
      }
    },
    {
      "cell_type": "code",
      "source": [
        "# Dataset path\n",
        "image_dir = \"/content/drive/MyDrive/Meat Dataset/\"\n",
        "\n",
        "# Load images and labels\n",
        "def load_images_labels(image_dir):\n",
        "    images, labels = [], []\n",
        "    for label in os.listdir(image_dir):\n",
        "        folder = os.path.join(image_dir, label)\n",
        "        for file in os.listdir(folder):\n",
        "            img_path = os.path.join(folder, file)\n",
        "            img = cv2.imread(img_path)\n",
        "            img = cv2.resize(img, (128, 128))\n",
        "            images.append(img)\n",
        "            labels.append(label)\n",
        "    return images, labels\n",
        "\n",
        "images, labels = load_images_labels(image_dir)\n",
        "print(\"Jumlah gambar:\", len(images))\n"
      ],
      "metadata": {
        "colab": {
          "base_uri": "https://localhost:8080/"
        },
        "id": "AyAiiRt5LFXJ",
        "outputId": "9af5b949-7329-48fd-f6be-11c7902a3131"
      },
      "execution_count": 35,
      "outputs": [
        {
          "output_type": "stream",
          "name": "stdout",
          "text": [
            "Jumlah gambar: 366\n"
          ]
        }
      ]
    },
    {
      "cell_type": "markdown",
      "source": [
        "## Ekstraksi Fitur"
      ],
      "metadata": {
        "id": "PjQ-3po6LJmO"
      }
    },
    {
      "cell_type": "code",
      "source": [
        "# Cell 4: Ekstraksi Fitur GLCM & LBP\n",
        "def extract_glcm_features(gray_img):\n",
        "    glcm = graycomatrix(gray_img, distances=[1], angles=[0], levels=256, symmetric=True, normed=True)\n",
        "    features = {\n",
        "        'contrast': graycoprops(glcm, 'contrast')[0][0],\n",
        "        'dissimilarity': graycoprops(glcm, 'dissimilarity')[0][0],\n",
        "        'homogeneity': graycoprops(glcm, 'homogeneity')[0][0],\n",
        "        'ASM': graycoprops(glcm, 'ASM')[0][0],\n",
        "        'energy': graycoprops(glcm, 'energy')[0][0],\n",
        "        'correlation': graycoprops(glcm, 'correlation')[0][0]\n",
        "    }\n",
        "    return features\n",
        "\n",
        "# Contoh uji coba ekstraksi fitur pertama\n",
        "gray = cv2.cvtColor(images[0], cv2.COLOR_BGR2GRAY)\n",
        "print(\"GLCM:\", extract_glcm_features(gray))"
      ],
      "metadata": {
        "colab": {
          "base_uri": "https://localhost:8080/"
        },
        "id": "bbrDRxMHLMog",
        "outputId": "33353331-f173-4497-cd7a-0eb51f989a06"
      },
      "execution_count": 36,
      "outputs": [
        {
          "output_type": "stream",
          "name": "stdout",
          "text": [
            "GLCM: {'contrast': np.float64(308.3304010826772), 'dissimilarity': np.float64(9.00079970472441), 'homogeneity': np.float64(0.17268423877665046), 'ASM': np.float64(0.0005562093033365754), 'energy': np.float64(0.023584090046821295), 'correlation': np.float64(0.7767123981126108)}\n"
          ]
        }
      ]
    },
    {
      "cell_type": "markdown",
      "source": [
        "## Dataset Fitur"
      ],
      "metadata": {
        "id": "slohiJ8NLYpM"
      }
    },
    {
      "cell_type": "code",
      "source": [
        "# Cell 5: Buat dataset fitur\n",
        "def build_feature_dataset(images, labels, feature_type='GLCM'):\n",
        "    data = []\n",
        "    for img, label in zip(images, labels):\n",
        "        gray = cv2.cvtColor(img, cv2.COLOR_BGR2GRAY)\n",
        "        if feature_type == 'GLCM':\n",
        "            features = extract_glcm_features(gray)\n",
        "        else:\n",
        "            raise ValueError(\"Fitur tidak dikenali.\")\n",
        "        features['label'] = label\n",
        "        data.append(features)\n",
        "    return pd.DataFrame(data)\n",
        "\n",
        "feature_type = 'GLCM'\n",
        "df_features = build_feature_dataset(images, labels, feature_type)\n",
        "df_features.head()"
      ],
      "metadata": {
        "colab": {
          "base_uri": "https://localhost:8080/",
          "height": 206
        },
        "id": "h1x-yllmLYSH",
        "outputId": "021a3666-0ef7-42b8-e228-b32b438d3a7c"
      },
      "execution_count": 38,
      "outputs": [
        {
          "output_type": "execute_result",
          "data": {
            "text/plain": [
              "     contrast  dissimilarity  homogeneity       ASM    energy  correlation  \\\n",
              "0  308.330401       9.000800     0.172684  0.000556  0.023584     0.776712   \n",
              "1  186.963583       7.908588     0.165549  0.000639  0.025279     0.827457   \n",
              "2  260.146038      10.204232     0.133256  0.000344  0.018552     0.862162   \n",
              "3   55.645300       5.333292     0.186634  0.000548  0.023417     0.962476   \n",
              "4  548.632874      12.518578     0.128469  0.000438  0.020927     0.533505   \n",
              "\n",
              "        label  \n",
              "0  Horse Meat  \n",
              "1  Horse Meat  \n",
              "2  Horse Meat  \n",
              "3  Horse Meat  \n",
              "4  Horse Meat  "
            ],
            "text/html": [
              "\n",
              "  <div id=\"df-10cf8f7a-50da-4f89-b28e-b04e5ecd8313\" class=\"colab-df-container\">\n",
              "    <div>\n",
              "<style scoped>\n",
              "    .dataframe tbody tr th:only-of-type {\n",
              "        vertical-align: middle;\n",
              "    }\n",
              "\n",
              "    .dataframe tbody tr th {\n",
              "        vertical-align: top;\n",
              "    }\n",
              "\n",
              "    .dataframe thead th {\n",
              "        text-align: right;\n",
              "    }\n",
              "</style>\n",
              "<table border=\"1\" class=\"dataframe\">\n",
              "  <thead>\n",
              "    <tr style=\"text-align: right;\">\n",
              "      <th></th>\n",
              "      <th>contrast</th>\n",
              "      <th>dissimilarity</th>\n",
              "      <th>homogeneity</th>\n",
              "      <th>ASM</th>\n",
              "      <th>energy</th>\n",
              "      <th>correlation</th>\n",
              "      <th>label</th>\n",
              "    </tr>\n",
              "  </thead>\n",
              "  <tbody>\n",
              "    <tr>\n",
              "      <th>0</th>\n",
              "      <td>308.330401</td>\n",
              "      <td>9.000800</td>\n",
              "      <td>0.172684</td>\n",
              "      <td>0.000556</td>\n",
              "      <td>0.023584</td>\n",
              "      <td>0.776712</td>\n",
              "      <td>Horse Meat</td>\n",
              "    </tr>\n",
              "    <tr>\n",
              "      <th>1</th>\n",
              "      <td>186.963583</td>\n",
              "      <td>7.908588</td>\n",
              "      <td>0.165549</td>\n",
              "      <td>0.000639</td>\n",
              "      <td>0.025279</td>\n",
              "      <td>0.827457</td>\n",
              "      <td>Horse Meat</td>\n",
              "    </tr>\n",
              "    <tr>\n",
              "      <th>2</th>\n",
              "      <td>260.146038</td>\n",
              "      <td>10.204232</td>\n",
              "      <td>0.133256</td>\n",
              "      <td>0.000344</td>\n",
              "      <td>0.018552</td>\n",
              "      <td>0.862162</td>\n",
              "      <td>Horse Meat</td>\n",
              "    </tr>\n",
              "    <tr>\n",
              "      <th>3</th>\n",
              "      <td>55.645300</td>\n",
              "      <td>5.333292</td>\n",
              "      <td>0.186634</td>\n",
              "      <td>0.000548</td>\n",
              "      <td>0.023417</td>\n",
              "      <td>0.962476</td>\n",
              "      <td>Horse Meat</td>\n",
              "    </tr>\n",
              "    <tr>\n",
              "      <th>4</th>\n",
              "      <td>548.632874</td>\n",
              "      <td>12.518578</td>\n",
              "      <td>0.128469</td>\n",
              "      <td>0.000438</td>\n",
              "      <td>0.020927</td>\n",
              "      <td>0.533505</td>\n",
              "      <td>Horse Meat</td>\n",
              "    </tr>\n",
              "  </tbody>\n",
              "</table>\n",
              "</div>\n",
              "    <div class=\"colab-df-buttons\">\n",
              "\n",
              "  <div class=\"colab-df-container\">\n",
              "    <button class=\"colab-df-convert\" onclick=\"convertToInteractive('df-10cf8f7a-50da-4f89-b28e-b04e5ecd8313')\"\n",
              "            title=\"Convert this dataframe to an interactive table.\"\n",
              "            style=\"display:none;\">\n",
              "\n",
              "  <svg xmlns=\"http://www.w3.org/2000/svg\" height=\"24px\" viewBox=\"0 -960 960 960\">\n",
              "    <path d=\"M120-120v-720h720v720H120Zm60-500h600v-160H180v160Zm220 220h160v-160H400v160Zm0 220h160v-160H400v160ZM180-400h160v-160H180v160Zm440 0h160v-160H620v160ZM180-180h160v-160H180v160Zm440 0h160v-160H620v160Z\"/>\n",
              "  </svg>\n",
              "    </button>\n",
              "\n",
              "  <style>\n",
              "    .colab-df-container {\n",
              "      display:flex;\n",
              "      gap: 12px;\n",
              "    }\n",
              "\n",
              "    .colab-df-convert {\n",
              "      background-color: #E8F0FE;\n",
              "      border: none;\n",
              "      border-radius: 50%;\n",
              "      cursor: pointer;\n",
              "      display: none;\n",
              "      fill: #1967D2;\n",
              "      height: 32px;\n",
              "      padding: 0 0 0 0;\n",
              "      width: 32px;\n",
              "    }\n",
              "\n",
              "    .colab-df-convert:hover {\n",
              "      background-color: #E2EBFA;\n",
              "      box-shadow: 0px 1px 2px rgba(60, 64, 67, 0.3), 0px 1px 3px 1px rgba(60, 64, 67, 0.15);\n",
              "      fill: #174EA6;\n",
              "    }\n",
              "\n",
              "    .colab-df-buttons div {\n",
              "      margin-bottom: 4px;\n",
              "    }\n",
              "\n",
              "    [theme=dark] .colab-df-convert {\n",
              "      background-color: #3B4455;\n",
              "      fill: #D2E3FC;\n",
              "    }\n",
              "\n",
              "    [theme=dark] .colab-df-convert:hover {\n",
              "      background-color: #434B5C;\n",
              "      box-shadow: 0px 1px 3px 1px rgba(0, 0, 0, 0.15);\n",
              "      filter: drop-shadow(0px 1px 2px rgba(0, 0, 0, 0.3));\n",
              "      fill: #FFFFFF;\n",
              "    }\n",
              "  </style>\n",
              "\n",
              "    <script>\n",
              "      const buttonEl =\n",
              "        document.querySelector('#df-10cf8f7a-50da-4f89-b28e-b04e5ecd8313 button.colab-df-convert');\n",
              "      buttonEl.style.display =\n",
              "        google.colab.kernel.accessAllowed ? 'block' : 'none';\n",
              "\n",
              "      async function convertToInteractive(key) {\n",
              "        const element = document.querySelector('#df-10cf8f7a-50da-4f89-b28e-b04e5ecd8313');\n",
              "        const dataTable =\n",
              "          await google.colab.kernel.invokeFunction('convertToInteractive',\n",
              "                                                    [key], {});\n",
              "        if (!dataTable) return;\n",
              "\n",
              "        const docLinkHtml = 'Like what you see? Visit the ' +\n",
              "          '<a target=\"_blank\" href=https://colab.research.google.com/notebooks/data_table.ipynb>data table notebook</a>'\n",
              "          + ' to learn more about interactive tables.';\n",
              "        element.innerHTML = '';\n",
              "        dataTable['output_type'] = 'display_data';\n",
              "        await google.colab.output.renderOutput(dataTable, element);\n",
              "        const docLink = document.createElement('div');\n",
              "        docLink.innerHTML = docLinkHtml;\n",
              "        element.appendChild(docLink);\n",
              "      }\n",
              "    </script>\n",
              "  </div>\n",
              "\n",
              "\n",
              "    <div id=\"df-ef812b5e-d47a-45bf-8ed9-42757af19ad6\">\n",
              "      <button class=\"colab-df-quickchart\" onclick=\"quickchart('df-ef812b5e-d47a-45bf-8ed9-42757af19ad6')\"\n",
              "                title=\"Suggest charts\"\n",
              "                style=\"display:none;\">\n",
              "\n",
              "<svg xmlns=\"http://www.w3.org/2000/svg\" height=\"24px\"viewBox=\"0 0 24 24\"\n",
              "     width=\"24px\">\n",
              "    <g>\n",
              "        <path d=\"M19 3H5c-1.1 0-2 .9-2 2v14c0 1.1.9 2 2 2h14c1.1 0 2-.9 2-2V5c0-1.1-.9-2-2-2zM9 17H7v-7h2v7zm4 0h-2V7h2v10zm4 0h-2v-4h2v4z\"/>\n",
              "    </g>\n",
              "</svg>\n",
              "      </button>\n",
              "\n",
              "<style>\n",
              "  .colab-df-quickchart {\n",
              "      --bg-color: #E8F0FE;\n",
              "      --fill-color: #1967D2;\n",
              "      --hover-bg-color: #E2EBFA;\n",
              "      --hover-fill-color: #174EA6;\n",
              "      --disabled-fill-color: #AAA;\n",
              "      --disabled-bg-color: #DDD;\n",
              "  }\n",
              "\n",
              "  [theme=dark] .colab-df-quickchart {\n",
              "      --bg-color: #3B4455;\n",
              "      --fill-color: #D2E3FC;\n",
              "      --hover-bg-color: #434B5C;\n",
              "      --hover-fill-color: #FFFFFF;\n",
              "      --disabled-bg-color: #3B4455;\n",
              "      --disabled-fill-color: #666;\n",
              "  }\n",
              "\n",
              "  .colab-df-quickchart {\n",
              "    background-color: var(--bg-color);\n",
              "    border: none;\n",
              "    border-radius: 50%;\n",
              "    cursor: pointer;\n",
              "    display: none;\n",
              "    fill: var(--fill-color);\n",
              "    height: 32px;\n",
              "    padding: 0;\n",
              "    width: 32px;\n",
              "  }\n",
              "\n",
              "  .colab-df-quickchart:hover {\n",
              "    background-color: var(--hover-bg-color);\n",
              "    box-shadow: 0 1px 2px rgba(60, 64, 67, 0.3), 0 1px 3px 1px rgba(60, 64, 67, 0.15);\n",
              "    fill: var(--button-hover-fill-color);\n",
              "  }\n",
              "\n",
              "  .colab-df-quickchart-complete:disabled,\n",
              "  .colab-df-quickchart-complete:disabled:hover {\n",
              "    background-color: var(--disabled-bg-color);\n",
              "    fill: var(--disabled-fill-color);\n",
              "    box-shadow: none;\n",
              "  }\n",
              "\n",
              "  .colab-df-spinner {\n",
              "    border: 2px solid var(--fill-color);\n",
              "    border-color: transparent;\n",
              "    border-bottom-color: var(--fill-color);\n",
              "    animation:\n",
              "      spin 1s steps(1) infinite;\n",
              "  }\n",
              "\n",
              "  @keyframes spin {\n",
              "    0% {\n",
              "      border-color: transparent;\n",
              "      border-bottom-color: var(--fill-color);\n",
              "      border-left-color: var(--fill-color);\n",
              "    }\n",
              "    20% {\n",
              "      border-color: transparent;\n",
              "      border-left-color: var(--fill-color);\n",
              "      border-top-color: var(--fill-color);\n",
              "    }\n",
              "    30% {\n",
              "      border-color: transparent;\n",
              "      border-left-color: var(--fill-color);\n",
              "      border-top-color: var(--fill-color);\n",
              "      border-right-color: var(--fill-color);\n",
              "    }\n",
              "    40% {\n",
              "      border-color: transparent;\n",
              "      border-right-color: var(--fill-color);\n",
              "      border-top-color: var(--fill-color);\n",
              "    }\n",
              "    60% {\n",
              "      border-color: transparent;\n",
              "      border-right-color: var(--fill-color);\n",
              "    }\n",
              "    80% {\n",
              "      border-color: transparent;\n",
              "      border-right-color: var(--fill-color);\n",
              "      border-bottom-color: var(--fill-color);\n",
              "    }\n",
              "    90% {\n",
              "      border-color: transparent;\n",
              "      border-bottom-color: var(--fill-color);\n",
              "    }\n",
              "  }\n",
              "</style>\n",
              "\n",
              "      <script>\n",
              "        async function quickchart(key) {\n",
              "          const quickchartButtonEl =\n",
              "            document.querySelector('#' + key + ' button');\n",
              "          quickchartButtonEl.disabled = true;  // To prevent multiple clicks.\n",
              "          quickchartButtonEl.classList.add('colab-df-spinner');\n",
              "          try {\n",
              "            const charts = await google.colab.kernel.invokeFunction(\n",
              "                'suggestCharts', [key], {});\n",
              "          } catch (error) {\n",
              "            console.error('Error during call to suggestCharts:', error);\n",
              "          }\n",
              "          quickchartButtonEl.classList.remove('colab-df-spinner');\n",
              "          quickchartButtonEl.classList.add('colab-df-quickchart-complete');\n",
              "        }\n",
              "        (() => {\n",
              "          let quickchartButtonEl =\n",
              "            document.querySelector('#df-ef812b5e-d47a-45bf-8ed9-42757af19ad6 button');\n",
              "          quickchartButtonEl.style.display =\n",
              "            google.colab.kernel.accessAllowed ? 'block' : 'none';\n",
              "        })();\n",
              "      </script>\n",
              "    </div>\n",
              "\n",
              "    </div>\n",
              "  </div>\n"
            ],
            "application/vnd.google.colaboratory.intrinsic+json": {
              "type": "dataframe",
              "variable_name": "df_features",
              "summary": "{\n  \"name\": \"df_features\",\n  \"rows\": 366,\n  \"fields\": [\n    {\n      \"column\": \"contrast\",\n      \"properties\": {\n        \"dtype\": \"number\",\n        \"std\": 191.76038881332542,\n        \"min\": 15.164677657480318,\n        \"max\": 1115.130413385827,\n        \"num_unique_values\": 365,\n        \"samples\": [\n          592.4456815944882,\n          187.74489419291336,\n          42.97114911417323\n        ],\n        \"semantic_type\": \"\",\n        \"description\": \"\"\n      }\n    },\n    {\n      \"column\": \"dissimilarity\",\n      \"properties\": {\n        \"dtype\": \"number\",\n        \"std\": 3.97053080917865,\n        \"min\": 2.268147145669291,\n        \"max\": 21.220841535433074,\n        \"num_unique_values\": 364,\n        \"samples\": [\n          11.656434547244094,\n          9.028358759842519,\n          4.758427657480315\n        ],\n        \"semantic_type\": \"\",\n        \"description\": \"\"\n      }\n    },\n    {\n      \"column\": \"homogeneity\",\n      \"properties\": {\n        \"dtype\": \"number\",\n        \"std\": 0.05591916762190854,\n        \"min\": 0.06477739253162876,\n        \"max\": 0.4191558053308708,\n        \"num_unique_values\": 365,\n        \"samples\": [\n          0.08485704955329368,\n          0.14676066985453848,\n          0.20159029626133793\n        ],\n        \"semantic_type\": \"\",\n        \"description\": \"\"\n      }\n    },\n    {\n      \"column\": \"ASM\",\n      \"properties\": {\n        \"dtype\": \"number\",\n        \"std\": 0.0003979272020941673,\n        \"min\": 0.00018378283826880158,\n        \"max\": 0.004600173445952361,\n        \"num_unique_values\": 365,\n        \"samples\": [\n          0.000228158110124814,\n          0.0003272470534198881,\n          0.00048449895483775344\n        ],\n        \"semantic_type\": \"\",\n        \"description\": \"\"\n      }\n    },\n    {\n      \"column\": \"energy\",\n      \"properties\": {\n        \"dtype\": \"number\",\n        \"std\": 0.006440661182697922,\n        \"min\": 0.013556652915406574,\n        \"max\": 0.0678245784797249,\n        \"num_unique_values\": 365,\n        \"samples\": [\n          0.015104903512595306,\n          0.01808997107294227,\n          0.02201133696161488\n        ],\n        \"semantic_type\": \"\",\n        \"description\": \"\"\n      }\n    },\n    {\n      \"column\": \"correlation\",\n      \"properties\": {\n        \"dtype\": \"number\",\n        \"std\": 0.13980860056891725,\n        \"min\": 0.4633917914446477,\n        \"max\": 0.9949773508924085,\n        \"num_unique_values\": 365,\n        \"samples\": [\n          0.6567750424494412,\n          0.9385470162358156,\n          0.980064860786931\n        ],\n        \"semantic_type\": \"\",\n        \"description\": \"\"\n      }\n    },\n    {\n      \"column\": \"label\",\n      \"properties\": {\n        \"dtype\": \"category\",\n        \"num_unique_values\": 3,\n        \"samples\": [\n          \"Horse Meat\",\n          \"Meat\",\n          \"Pork\"\n        ],\n        \"semantic_type\": \"\",\n        \"description\": \"\"\n      }\n    }\n  ]\n}"
            }
          },
          "metadata": {},
          "execution_count": 38
        }
      ]
    },
    {
      "cell_type": "markdown",
      "source": [
        "## Data Training"
      ],
      "metadata": {
        "id": "tAlDIDY3LeQF"
      }
    },
    {
      "cell_type": "code",
      "source": [
        "# Cell 6: Train-Test Split dan Pelatihan Model\n",
        "X = df_features.drop('label', axis=1)\n",
        "y = df_features['label']\n",
        "\n",
        "X_train, X_test, y_train, y_test = train_test_split(X, y, test_size=0.2, random_state=42)\n",
        "\n",
        "# Pilihan model: 'RF' untuk Random Forest, 'SVM' untuk Support Vector Machine\n",
        "model_choice = 'RF'\n",
        "\n",
        "if model_choice == 'RF':\n",
        "    model = RandomForestClassifier(n_estimators=100, random_state=42)\n",
        "elif model_choice == 'SVM':\n",
        "    model = SVC(kernel='rbf', probability=True)\n",
        "else:\n",
        "    raise ValueError(\"Model tidak dikenali.\")\n",
        "\n",
        "model.fit(X_train, y_train)\n",
        "y_pred = model.predict(X_test)\n",
        "\n",
        "print(\"Akurasi:\", accuracy_score(y_test, y_pred))\n",
        "print(\"Laporan Klasifikasi:\\n\", classification_report(y_test, y_pred))"
      ],
      "metadata": {
        "colab": {
          "base_uri": "https://localhost:8080/"
        },
        "id": "PypFvBb1LkmS",
        "outputId": "6c793c2f-5f07-4c07-9cd4-e6b43e7f3ae6"
      },
      "execution_count": 39,
      "outputs": [
        {
          "output_type": "stream",
          "name": "stdout",
          "text": [
            "Akurasi: 0.6216216216216216\n",
            "Laporan Klasifikasi:\n",
            "               precision    recall  f1-score   support\n",
            "\n",
            "  Horse Meat       0.60      0.68      0.64        31\n",
            "        Meat       0.75      0.88      0.81        17\n",
            "        Pork       0.53      0.38      0.44        26\n",
            "\n",
            "    accuracy                           0.62        74\n",
            "   macro avg       0.63      0.65      0.63        74\n",
            "weighted avg       0.61      0.62      0.61        74\n",
            "\n"
          ]
        }
      ]
    },
    {
      "cell_type": "markdown",
      "source": [
        "## Gradio Start!"
      ],
      "metadata": {
        "id": "9LG_rxEJLU-F"
      }
    },
    {
      "cell_type": "code",
      "source": [
        "def predict_image(img, model_tipe='Random Forest'):\n",
        "    img = cv2.resize(img, (128, 128))\n",
        "    gray = cv2.cvtColor(img, cv2.COLOR_BGR2GRAY)\n",
        "\n",
        "    # Langsung ekstraksi GLCM\n",
        "    feat_dict = extract_glcm_features(gray)\n",
        "\n",
        "    # Buat dataframe fitur\n",
        "    feat_df = pd.DataFrame({\n",
        "        \"📌 Nama Fitur\": list(feat_dict.keys()),\n",
        "        \"📈 Nilai\": [round(v, 4) for v in feat_dict.values()]\n",
        "    })\n",
        "\n",
        "    # Pilih model\n",
        "    if model_tipe == 'Random Forest':\n",
        "        mdl = RandomForestClassifier(n_estimators=100, random_state=42)\n",
        "    else:\n",
        "        mdl = SVC(kernel='rbf', probability=True)\n",
        "\n",
        "    # Training\n",
        "    mdl.fit(X_train, y_train)\n",
        "    pred = mdl.predict(pd.DataFrame([feat_dict]))[0]\n",
        "    prob = mdl.predict_proba(pd.DataFrame([feat_dict])).max()\n",
        "\n",
        "    # Penjelasan\n",
        "    keterangan = \"\"\"\n",
        "## 📘 Penjelasan Fitur Tekstur & Algoritma\n",
        "\n",
        "### 🧬 **GLCM (Gray Level Co-occurrence Matrix):**\n",
        "- **Contrast**: Intensitas perbedaan antar piksel.\n",
        "- **Dissimilarity**: Versi sensitif dari contrast.\n",
        "- **Homogeneity**: Tekstur halus jika nilainya tinggi.\n",
        "- **ASM**: Stabilitas tekstur; pola berulang.\n",
        "- **Energy**: Akar dari ASM.\n",
        "- **Correlation**: Hubungan antar piksel.\n",
        "\n",
        "---\n",
        "\n",
        "### 🧠 **Algoritma:**\n",
        "- **Random Forest**: Voting dari banyak pohon keputusan. Kuat dan tidak mudah overfitting.\n",
        "- **SVM (Support Vector Machine)**: Pemisah optimal antar kelas. Akurat untuk data kecil-menengah.\n",
        "\"\"\"\n",
        "    return (\n",
        "        f\"🧠 Prediksi: {pred}\",\n",
        "        f\"📊 Probabilitas: {prob:.2f}\",\n",
        "        feat_df,\n",
        "        keterangan\n",
        "    )"
      ],
      "metadata": {
        "id": "doukn563LpjD"
      },
      "execution_count": 42,
      "outputs": []
    },
    {
      "cell_type": "code",
      "source": [
        "# TAMPILAN GRADIO\n",
        "demo = gr.Interface(\n",
        "    fn=predict_image,\n",
        "    inputs=[\n",
        "        gr.Image(type=\"numpy\", label=\"📤 Upload Gambar Daging\"),\n",
        "        gr.Radio(['Random Forest', 'SVM'], label=\"🤖 Pilih Metode\")\n",
        "    ],\n",
        "    outputs=[\n",
        "        gr.Textbox(label=\"🎯 Hasil Prediksi\"),\n",
        "        gr.Textbox(label=\"📊 Probabilitas\"),\n",
        "        gr.Dataframe(label=\"📑 Nilai Ekstraksi Fitur\"),\n",
        "        gr.Markdown(label=\"📘 Penjelasan\")\n",
        "    ],\n",
        "    title=\"🥩💻 Klasifikasi Tekstur Citra Daging\",\n",
        "    description=\"Analisis tekstur menggunakan GLCM dan algoritma Random Forest atau SVM. Output berisi hasil prediksi, nilai fitur, dan penjelasan lengkap biar kamu makin paham 💕\",\n",
        ")\n",
        "\n",
        "# 🚀 Jalankan interface\n",
        "demo.launch(share=True, inline=False)"
      ],
      "metadata": {
        "colab": {
          "base_uri": "https://localhost:8080/"
        },
        "id": "rIFl-aEPRo-j",
        "outputId": "40256a17-b480-40a2-9868-7b2aec0c6ebb"
      },
      "execution_count": 43,
      "outputs": [
        {
          "output_type": "stream",
          "name": "stdout",
          "text": [
            "Colab notebook detected. To show errors in colab notebook, set debug=True in launch()\n",
            "* Running on public URL: https://2d903401e05ac73857.gradio.live\n",
            "\n",
            "This share link expires in 1 week. For free permanent hosting and GPU upgrades, run `gradio deploy` from the terminal in the working directory to deploy to Hugging Face Spaces (https://huggingface.co/spaces)\n"
          ]
        },
        {
          "output_type": "execute_result",
          "data": {
            "text/plain": []
          },
          "metadata": {},
          "execution_count": 43
        }
      ]
    },
    {
      "cell_type": "markdown",
      "source": [
        "## Evaluasi Model"
      ],
      "metadata": {
        "id": "kuOM3ipkL_Cc"
      }
    },
    {
      "cell_type": "code",
      "source": [
        "# Cell 8: Evaluasi Model Lengkap + Visualisasi\n",
        "import seaborn as sns\n",
        "import matplotlib.pyplot as plt\n",
        "from sklearn.metrics import confusion_matrix\n",
        "\n",
        "# Prediksi ulang biar sinkron (kalau belum diprediksi di atas)\n",
        "y_pred = model.predict(X_test)\n",
        "\n",
        "# Confusion Matrix\n",
        "cm = confusion_matrix(y_test, y_pred, labels=np.unique(y))\n",
        "report = classification_report(y_test, y_pred, target_names=np.unique(y), output_dict=True)\n",
        "\n",
        "# Plot Confusion Matrix\n",
        "plt.figure(figsize=(8, 6))\n",
        "sns.heatmap(cm, annot=True, fmt='d', xticklabels=np.unique(y), yticklabels=np.unique(y), cmap='Blues')\n",
        "plt.title('Confusion Matrix')\n",
        "plt.xlabel('Predicted')\n",
        "plt.ylabel('Actual')\n",
        "plt.show()\n",
        "\n",
        "# Plot Akurasi Per Kelas\n",
        "plt.figure(figsize=(10, 5))\n",
        "scores = [report[label]['f1-score'] for label in np.unique(y)]\n",
        "sns.barplot(x=np.unique(y), y=scores, palette=\"magma\")\n",
        "plt.title(\"F1-Score per Class\")\n",
        "plt.ylabel(\"F1-Score\")\n",
        "plt.xlabel(\"Class Label\")\n",
        "plt.ylim(0, 1.1)\n",
        "plt.show()\n",
        "\n",
        "# Tampilkan laporan klasifikasi\n",
        "print(\"=== Classification Report ===\")\n",
        "print(classification_report(y_test, y_pred))"
      ],
      "metadata": {
        "id": "ttWYdN-XMBbH"
      },
      "execution_count": null,
      "outputs": []
    }
  ]
}